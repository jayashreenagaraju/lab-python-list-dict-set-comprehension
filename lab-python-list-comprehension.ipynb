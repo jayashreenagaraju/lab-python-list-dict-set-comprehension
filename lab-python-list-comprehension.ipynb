{
 "cells": [
  {
   "cell_type": "markdown",
   "id": "25d7736c-ba17-4aff-b6bb-66eba20fbf4e",
   "metadata": {},
   "source": [
    "# Lab | List, Dict and Set Comprehension"
   ]
  },
  {
   "cell_type": "markdown",
   "id": "7dd3cbde-675a-4b81-92c3-f728846dbe06",
   "metadata": {},
   "source": [
    "## Exercise: Managing Customer Orders Optimized with Comprehension"
   ]
  },
  {
   "cell_type": "markdown",
   "id": "5d500160-2fb7-4777-b5e4-09d45ebaf328",
   "metadata": {},
   "source": [
    "In the previous exercise, you developed a program to manage customer orders and inventory. Now, let's take it a step further and incorporate comprehension into your code.\n",
    "\n",
    "Follow the steps below to complete the exercise:\n",
    "\n",
    "1. Review your code from the previous exercise and identify areas where you can apply comprehension to simplify and streamline your code. \n",
    "\n",
    "    - *Hint: Apply it to initialize inventory, updating the inventory and printing the updated inventory.*\n",
    "    \n",
    "    - For example, in initializing the inventory, we could have:\n",
    "    \n",
    "        ```python\n",
    "        def initialize_inventory(products):\n",
    "            inventory = {product: int(input(f\"Enter the quantity of {product}s available: \")) for product in products}\n",
    "            return inventory\n",
    "\n",
    "        ```\n",
    "<br>\n",
    "    \n",
    "    \n",
    "2. Modify the function get_customer_orders so it prompts the user to enter the number of customer orders and gathers the product names using a loop and user input. Use comprehension.\n",
    "\n",
    "3. Add a new function to calculate the total price of the customer order. For each product in customer_orders, prompt the user to enter the price of that product. Use comprehension to calculate the total price. Note: assume that the user can only have 1 unit of each product.\n",
    "\n",
    "4. Modify the update_inventory function to remove the product from the inventory if its quantity becomes zero after fulfilling the customer orders. Use comprehension to filter out the products with a quantity of zero from the inventory.\n",
    "\n",
    "5. Print the total price of the customer order.\n",
    "\n",
    "Your code should produce output similar to the following:\n",
    "\n",
    "```python\n",
    "Enter the quantity of t-shirts available:  5\n",
    "Enter the quantity of mugs available:  4\n",
    "Enter the quantity of hats available:  3\n",
    "Enter the quantity of books available:  2\n",
    "Enter the quantity of keychains available:  1\n",
    "Enter the number of customer orders:  2\n",
    "Enter the name of a product that a customer wants to order:  hat\n",
    "Enter the name of a product that a customer wants to order:  keychain\n",
    "\n",
    "Order Statistics:\n",
    "Total Products Ordered: 2\n",
    "Percentage of Unique Products Ordered: 40.0\n",
    "\n",
    "Updated Inventory:\n",
    "t-shirt: 5\n",
    "mug: 4\n",
    "hat: 2\n",
    "book: 2\n",
    "Enter the price of keychain:  5\n",
    "Enter the price of hat:  10\n",
    "Total Price: 15.0\n",
    "\n",
    "```\n"
   ]
  },
  {
   "cell_type": "markdown",
   "id": "a16dafbf-f235-4ffd-b15a-9514bbb308ac",
   "metadata": {},
   "source": [
    "1. Review your code from the previous exercise and identify areas where you can apply comprehension to simplify and streamline your code. \n",
    "\n",
    "    - *Hint: Apply it to initialize inventory, updating the inventory and printing the updated inventory.*\n",
    "    \n",
    "    - For example, in initializing the inventory, we could have:\n",
    "    \n",
    "        ```python\n",
    "        def initialize_inventory(products):\n",
    "            inventory = {product: int(input(f\"Enter the quantity of {product}s available: \")) for product in products}\n",
    "            return inventory\n",
    "\n",
    "        ```"
   ]
  },
  {
   "cell_type": "code",
   "execution_count": 63,
   "id": "9d0c3c9d-3896-4307-b786-d00d54f10acf",
   "metadata": {},
   "outputs": [],
   "source": [
    "def initialize_inventory(products):\n",
    "    inventory = {product: int(input(f\"Enter the quantity of {product}s available: \")) for product in products}\n",
    "    return inventory\n",
    "\n",
    "\n",
    "\n",
    "\"\"\"\n",
    "def print_updated_inventory(inventory):\n",
    "    for inv in inventory:\n",
    "        print(f\"{inv} : {inventory[inv]}\")\n",
    "\"\"\"\n",
    "def print_updated_inventory(inventory):\n",
    "    {print(f\"{key} : {value}\") for key,value in inventory.items()}"
   ]
  },
  {
   "cell_type": "markdown",
   "id": "0197854f-4186-48e7-aa57-380594912cd2",
   "metadata": {},
   "source": [
    "2. Modify the function get_customer_orders so it prompts the user to enter the number of customer orders and gathers the product names using a loop and user input. Use comprehension."
   ]
  },
  {
   "cell_type": "code",
   "execution_count": 64,
   "id": "c9f60d14-a653-447e-854b-f75580d234d3",
   "metadata": {},
   "outputs": [],
   "source": [
    "def get_customer_orders():\n",
    "    customer_orders = []\n",
    "    next_product = \"yes\"\n",
    "    while next_product == \"yes\":\n",
    "        product_name = input(\"Enter the name of a product that a customer wants to order: \")\n",
    "        customer_orders.append(product_name)\n",
    "        next_product = input(\"Do you want to add another product? yes/no\")\n",
    "    return {order for order in customer_orders}"
   ]
  },
  {
   "cell_type": "markdown",
   "id": "ef46392d-712f-4960-bb5a-05ae55bb0169",
   "metadata": {},
   "source": [
    "3. Add a new function to calculate the total price of the customer order. For each product in customer_orders, prompt the user to enter the price of that product. Use comprehension to calculate the total price. Note: assume that the user can only have 1 unit of each product."
   ]
  },
  {
   "cell_type": "code",
   "execution_count": 65,
   "id": "db05c3aa-9a75-4859-a3a0-66ec50c14847",
   "metadata": {},
   "outputs": [],
   "source": [
    "def calculate_price(customer_orders):\n",
    "    price_list = [int(input(\"Enter the price of the \"+product)) for product in customer_orders]\n",
    "    return sum(price_list)"
   ]
  },
  {
   "cell_type": "markdown",
   "id": "096623a4-cd0f-47cf-9087-9fe8e21bc646",
   "metadata": {},
   "source": [
    "4. Modify the update_inventory function to remove the product from the inventory if its quantity becomes zero after fulfilling the customer orders. Use comprehension to filter out the products with a quantity of zero from the inventory."
   ]
  },
  {
   "cell_type": "code",
   "execution_count": 66,
   "id": "305b672e-fce9-4857-96c9-205df2569769",
   "metadata": {},
   "outputs": [],
   "source": [
    "\"\"\"\n",
    "def update_inventory(customer_orders, inventory):\n",
    "    for key in inventory.keys():\n",
    "        if key in customer_orders:\n",
    "            inventory[key] -= 1\n",
    "\"\"\"\n",
    "def update_inventory(customer_orders, inventory):\n",
    "    return {key: (value - 1) if key in customer_orders else value for key,value in inventory.items()}"
   ]
  },
  {
   "cell_type": "code",
   "execution_count": 67,
   "id": "f81b72f4-f5d4-43d5-b720-04b71f353a29",
   "metadata": {},
   "outputs": [],
   "source": [
    "def calculate_order_statistics(customer_orders,products):\n",
    "    total_products_ordered = len(customer_orders)\n",
    "    percentage = total_products_ordered/len(products)*100\n",
    "    return total_products_ordered, percentage\n",
    "\n",
    "def print_order_statistics(order_statistics):\n",
    "    print(f\"Order Statistics:\\nTotal Products Ordered: {order_statistics[0]}\\nPercentage of Products Ordered: {order_statistics[1]}% \")"
   ]
  },
  {
   "cell_type": "markdown",
   "id": "35cf833a-1ead-4531-9312-0de15dc9f359",
   "metadata": {},
   "source": [
    "5. Print the total price of the customer order."
   ]
  },
  {
   "cell_type": "code",
   "execution_count": 68,
   "id": "ed93ad94-f328-4802-98f4-c87a48fbeb49",
   "metadata": {},
   "outputs": [
    {
     "name": "stdin",
     "output_type": "stream",
     "text": [
      "Enter the quantity of t-shirts available:  1\n",
      "Enter the quantity of mugs available:  2\n",
      "Enter the quantity of hats available:  3\n",
      "Enter the quantity of books available:  4\n",
      "Enter the quantity of keychains available:  5\n",
      "Enter the name of a product that a customer wants to order:  mug\n",
      "Do you want to add another product? yes/no yes\n",
      "Enter the name of a product that a customer wants to order:  hat\n",
      "Do you want to add another product? yes/no yes\n",
      "Enter the name of a product that a customer wants to order:  book\n",
      "Do you want to add another product? yes/no no\n"
     ]
    },
    {
     "name": "stdout",
     "output_type": "stream",
     "text": [
      "Order Statistics:\n",
      "Total Products Ordered: 3\n",
      "Percentage of Products Ordered: 60.0% \n",
      "t-shirt : 1\n",
      "mug : 1\n",
      "hat : 2\n",
      "book : 3\n",
      "keychain : 5\n"
     ]
    },
    {
     "name": "stdin",
     "output_type": "stream",
     "text": [
      "Enter the price of the hat 10\n",
      "Enter the price of the mug 25\n",
      "Enter the price of the book 30\n"
     ]
    },
    {
     "name": "stdout",
     "output_type": "stream",
     "text": [
      "Total Price: 65\n"
     ]
    }
   ],
   "source": [
    "products = [\"t-shirt\", \"mug\", \"hat\", \"book\", \"keychain\"]\n",
    "inventory = initialize_inventory(products)\n",
    "customer_orders = get_customer_orders()\n",
    "order_statistics = calculate_order_statistics(customer_orders, products)\n",
    "print_order_statistics(order_statistics)\n",
    "updated_inventory = update_inventory(customer_orders, inventory)\n",
    "print_updated_inventory(updated_inventory)\n",
    "print(f\"Total Price: {calculate_price(customer_orders)}\")"
   ]
  },
  {
   "cell_type": "code",
   "execution_count": null,
   "id": "cf9ffc2d-654f-44ee-9485-0e6767ce2364",
   "metadata": {},
   "outputs": [],
   "source": []
  },
  {
   "cell_type": "code",
   "execution_count": null,
   "id": "d380abb6-ffac-4a1c-96b3-a5fc2b9e637e",
   "metadata": {},
   "outputs": [],
   "source": []
  },
  {
   "cell_type": "code",
   "execution_count": null,
   "id": "8a7da29d-1bfd-4db7-8582-c94522557b64",
   "metadata": {},
   "outputs": [],
   "source": []
  },
  {
   "cell_type": "code",
   "execution_count": null,
   "id": "ff6a17bd-629e-475d-baca-ee162a983794",
   "metadata": {},
   "outputs": [],
   "source": []
  },
  {
   "cell_type": "code",
   "execution_count": null,
   "id": "8c0ce26e-8a69-4f2c-8e34-e58f653620b2",
   "metadata": {},
   "outputs": [],
   "source": []
  },
  {
   "cell_type": "code",
   "execution_count": null,
   "id": "261f8a2e-91ab-43a5-8c56-bfc740d0bb2e",
   "metadata": {},
   "outputs": [],
   "source": []
  },
  {
   "cell_type": "code",
   "execution_count": null,
   "id": "7fd3bf72-e8a4-41a3-bb1a-284a39b7b0b3",
   "metadata": {},
   "outputs": [],
   "source": []
  },
  {
   "cell_type": "code",
   "execution_count": null,
   "id": "5ba7ed19-8252-46b2-90eb-0b333eb06e6d",
   "metadata": {},
   "outputs": [],
   "source": []
  },
  {
   "cell_type": "code",
   "execution_count": null,
   "id": "1127e8de-abd5-4bc5-9187-be8d6ecec7e5",
   "metadata": {},
   "outputs": [],
   "source": []
  },
  {
   "cell_type": "code",
   "execution_count": null,
   "id": "25e97535-1b6b-4cce-afd4-90ae4d5f80cd",
   "metadata": {},
   "outputs": [],
   "source": []
  },
  {
   "cell_type": "code",
   "execution_count": null,
   "id": "62360eb5-6b63-4174-9d4d-fbf1b954ef71",
   "metadata": {},
   "outputs": [],
   "source": []
  },
  {
   "cell_type": "code",
   "execution_count": null,
   "id": "8049c81b-f5e9-4f4f-a27f-57ae58e2485c",
   "metadata": {},
   "outputs": [],
   "source": []
  },
  {
   "cell_type": "code",
   "execution_count": null,
   "id": "fb54b98b-d100-40c0-abdd-6b35ad47dab3",
   "metadata": {},
   "outputs": [],
   "source": []
  },
  {
   "cell_type": "code",
   "execution_count": null,
   "id": "7a447403-32f0-4d96-b92f-9bd7ab6b026a",
   "metadata": {},
   "outputs": [],
   "source": []
  }
 ],
 "metadata": {
  "kernelspec": {
   "display_name": "Python 3 (ipykernel)",
   "language": "python",
   "name": "python3"
  },
  "language_info": {
   "codemirror_mode": {
    "name": "ipython",
    "version": 3
   },
   "file_extension": ".py",
   "mimetype": "text/x-python",
   "name": "python",
   "nbconvert_exporter": "python",
   "pygments_lexer": "ipython3",
   "version": "3.12.3"
  }
 },
 "nbformat": 4,
 "nbformat_minor": 5
}
